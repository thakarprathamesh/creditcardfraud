{
  "nbformat": 4,
  "nbformat_minor": 0,
  "metadata": {
    "kernelspec": {
      "display_name": "Python 3",
      "language": "python",
      "name": "python3"
    },
    "language_info": {
      "codemirror_mode": {
        "name": "ipython",
        "version": 3
      },
      "file_extension": ".py",
      "mimetype": "text/x-python",
      "name": "python",
      "nbconvert_exporter": "python",
      "pygments_lexer": "ipython3",
      "version": "3.7.6"
    },
    "colab": {
      "name": "Credit_card_fraud_detection_Prathamesh_Kavan.ipynb",
      "provenance": [],
      "collapsed_sections": [
        "O7yqGf2B4TUp",
        "WsoZr5Tz4TVK",
        "2kDcMchE4TVY",
        "rgPFZ0S-4TVd",
        "LU-RlbPd4TVp",
        "SmGHz4nB4TVq",
        "wsVKeHTf4TVw",
        "q7CYDs1W4TV6",
        "bFs14q984TWd",
        "AfPNHBct4TWj"
      ]
    },
    "accelerator": "TPU"
  },
  "cells": [
    {
      "cell_type": "markdown",
      "metadata": {
        "id": "14o0M3BW4TTf",
        "colab_type": "text"
      },
      "source": [
        "## Credit Card Fraud Detection\n",
        "\n",
        "In this project you will predict fraudulent credit card transactions with the help of Machine learning models. Please import the following libraries to get started."
      ]
    },
    {
      "cell_type": "code",
      "metadata": {
        "id": "zYdGkWHgG5FK",
        "colab_type": "code",
        "colab": {
          "base_uri": "https://localhost:8080/",
          "height": 104
        },
        "outputId": "0efce4f2-f830-4e4e-d48e-12edf55aad41"
      },
      "source": [
        "# Importing the required packages\n",
        "from sklearn.model_selection import StratifiedKFold\n",
        "from sklearn.model_selection import GridSearchCV\n",
        "from sklearn.linear_model import LogisticRegression\n",
        "from sklearn.metrics import f1_score, recall_score, precision_score\n",
        "from sklearn.ensemble import GradientBoostingClassifier\n",
        "from sklearn.ensemble import RandomForestClassifier\n",
        "from imblearn.over_sampling import RandomOverSampler\n",
        "from sklearn.neighbors import KNeighborsClassifier\n",
        "from imblearn import over_sampling \n",
        "from collections import Counter\n",
        "from sklearn.tree import DecisionTreeClassifier\n",
        "from imblearn.over_sampling import SMOTE\n",
        "from imblearn.over_sampling import ADASYN\n",
        "import matplotlib.pyplot as plt\n"
      ],
      "execution_count": 1,
      "outputs": [
        {
          "output_type": "stream",
          "text": [
            "/usr/local/lib/python3.6/dist-packages/sklearn/externals/six.py:31: FutureWarning: The module is deprecated in version 0.21 and will be removed in version 0.23 since we've dropped support for Python 2.7. Please rely on the official version of six (https://pypi.org/project/six/).\n",
            "  \"(https://pypi.org/project/six/).\", FutureWarning)\n",
            "/usr/local/lib/python3.6/dist-packages/sklearn/utils/deprecation.py:144: FutureWarning: The sklearn.neighbors.base module is  deprecated in version 0.22 and will be removed in version 0.24. The corresponding classes / functions should instead be imported from sklearn.neighbors. Anything that cannot be imported from sklearn.neighbors is now part of the private API.\n",
            "  warnings.warn(message, FutureWarning)\n"
          ],
          "name": "stderr"
        }
      ]
    },
    {
      "cell_type": "code",
      "metadata": {
        "id": "ReMVnpBo4edO",
        "colab_type": "code",
        "outputId": "015f1860-7d11-4d1b-bdbf-85d332eef24b",
        "colab": {
          "base_uri": "https://localhost:8080/",
          "height": 121
        }
      },
      "source": [
        "from google.colab import drive\n",
        "drive.mount('/content/drive')"
      ],
      "execution_count": 2,
      "outputs": [
        {
          "output_type": "stream",
          "text": [
            "Go to this URL in a browser: https://accounts.google.com/o/oauth2/auth?client_id=947318989803-6bn6qk8qdgf4n4g3pfee6491hc0brc4i.apps.googleusercontent.com&redirect_uri=urn%3aietf%3awg%3aoauth%3a2.0%3aoob&response_type=code&scope=email%20https%3a%2f%2fwww.googleapis.com%2fauth%2fdocs.test%20https%3a%2f%2fwww.googleapis.com%2fauth%2fdrive%20https%3a%2f%2fwww.googleapis.com%2fauth%2fdrive.photos.readonly%20https%3a%2f%2fwww.googleapis.com%2fauth%2fpeopleapi.readonly\n",
            "\n",
            "Enter your authorization code:\n",
            "··········\n",
            "Mounted at /content/drive\n"
          ],
          "name": "stdout"
        }
      ]
    },
    {
      "cell_type": "code",
      "metadata": {
        "scrolled": false,
        "id": "MW0B31gp4TTh",
        "colab_type": "code",
        "outputId": "23488664-5075-4432-b33e-dec4437e1682",
        "colab": {
          "base_uri": "https://localhost:8080/",
          "height": 70
        }
      },
      "source": [
        "import numpy as np\n",
        "import pandas as pd\n",
        "\n",
        "import matplotlib.pyplot as plt\n",
        "%matplotlib inline\n",
        "import seaborn as sns\n",
        "\n",
        "from sklearn import metrics\n",
        "from sklearn import preprocessing"
      ],
      "execution_count": 3,
      "outputs": [
        {
          "output_type": "stream",
          "text": [
            "/usr/local/lib/python3.6/dist-packages/statsmodels/tools/_testing.py:19: FutureWarning: pandas.util.testing is deprecated. Use the functions in the public API at pandas.testing instead.\n",
            "  import pandas.util.testing as tm\n"
          ],
          "name": "stderr"
        }
      ]
    },
    {
      "cell_type": "markdown",
      "metadata": {
        "id": "ik7-g93P4TTo",
        "colab_type": "text"
      },
      "source": [
        "## Exploratory data analysis"
      ]
    },
    {
      "cell_type": "code",
      "metadata": {
        "id": "5Hpt5YwV4TTp",
        "colab_type": "code",
        "outputId": "f76ee018-6896-477f-e1ed-17c53c6a6063",
        "colab": {
          "base_uri": "https://localhost:8080/",
          "height": 215
        }
      },
      "source": [
        "df = pd.read_csv('/content/drive/My Drive/cap/creditcard.csv')\n",
        "df.head()"
      ],
      "execution_count": 4,
      "outputs": [
        {
          "output_type": "execute_result",
          "data": {
            "text/html": [
              "<div>\n",
              "<style scoped>\n",
              "    .dataframe tbody tr th:only-of-type {\n",
              "        vertical-align: middle;\n",
              "    }\n",
              "\n",
              "    .dataframe tbody tr th {\n",
              "        vertical-align: top;\n",
              "    }\n",
              "\n",
              "    .dataframe thead th {\n",
              "        text-align: right;\n",
              "    }\n",
              "</style>\n",
              "<table border=\"1\" class=\"dataframe\">\n",
              "  <thead>\n",
              "    <tr style=\"text-align: right;\">\n",
              "      <th></th>\n",
              "      <th>Time</th>\n",
              "      <th>V1</th>\n",
              "      <th>V2</th>\n",
              "      <th>V3</th>\n",
              "      <th>V4</th>\n",
              "      <th>V5</th>\n",
              "      <th>V6</th>\n",
              "      <th>V7</th>\n",
              "      <th>V8</th>\n",
              "      <th>V9</th>\n",
              "      <th>V10</th>\n",
              "      <th>V11</th>\n",
              "      <th>V12</th>\n",
              "      <th>V13</th>\n",
              "      <th>V14</th>\n",
              "      <th>V15</th>\n",
              "      <th>V16</th>\n",
              "      <th>V17</th>\n",
              "      <th>V18</th>\n",
              "      <th>V19</th>\n",
              "      <th>V20</th>\n",
              "      <th>V21</th>\n",
              "      <th>V22</th>\n",
              "      <th>V23</th>\n",
              "      <th>V24</th>\n",
              "      <th>V25</th>\n",
              "      <th>V26</th>\n",
              "      <th>V27</th>\n",
              "      <th>V28</th>\n",
              "      <th>Amount</th>\n",
              "      <th>Class</th>\n",
              "    </tr>\n",
              "  </thead>\n",
              "  <tbody>\n",
              "    <tr>\n",
              "      <th>0</th>\n",
              "      <td>0.0</td>\n",
              "      <td>-1.359807</td>\n",
              "      <td>-0.072781</td>\n",
              "      <td>2.536347</td>\n",
              "      <td>1.378155</td>\n",
              "      <td>-0.338321</td>\n",
              "      <td>0.462388</td>\n",
              "      <td>0.239599</td>\n",
              "      <td>0.098698</td>\n",
              "      <td>0.363787</td>\n",
              "      <td>0.090794</td>\n",
              "      <td>-0.551600</td>\n",
              "      <td>-0.617801</td>\n",
              "      <td>-0.991390</td>\n",
              "      <td>-0.311169</td>\n",
              "      <td>1.468177</td>\n",
              "      <td>-0.470401</td>\n",
              "      <td>0.207971</td>\n",
              "      <td>0.025791</td>\n",
              "      <td>0.403993</td>\n",
              "      <td>0.251412</td>\n",
              "      <td>-0.018307</td>\n",
              "      <td>0.277838</td>\n",
              "      <td>-0.110474</td>\n",
              "      <td>0.066928</td>\n",
              "      <td>0.128539</td>\n",
              "      <td>-0.189115</td>\n",
              "      <td>0.133558</td>\n",
              "      <td>-0.021053</td>\n",
              "      <td>149.62</td>\n",
              "      <td>0</td>\n",
              "    </tr>\n",
              "    <tr>\n",
              "      <th>1</th>\n",
              "      <td>0.0</td>\n",
              "      <td>1.191857</td>\n",
              "      <td>0.266151</td>\n",
              "      <td>0.166480</td>\n",
              "      <td>0.448154</td>\n",
              "      <td>0.060018</td>\n",
              "      <td>-0.082361</td>\n",
              "      <td>-0.078803</td>\n",
              "      <td>0.085102</td>\n",
              "      <td>-0.255425</td>\n",
              "      <td>-0.166974</td>\n",
              "      <td>1.612727</td>\n",
              "      <td>1.065235</td>\n",
              "      <td>0.489095</td>\n",
              "      <td>-0.143772</td>\n",
              "      <td>0.635558</td>\n",
              "      <td>0.463917</td>\n",
              "      <td>-0.114805</td>\n",
              "      <td>-0.183361</td>\n",
              "      <td>-0.145783</td>\n",
              "      <td>-0.069083</td>\n",
              "      <td>-0.225775</td>\n",
              "      <td>-0.638672</td>\n",
              "      <td>0.101288</td>\n",
              "      <td>-0.339846</td>\n",
              "      <td>0.167170</td>\n",
              "      <td>0.125895</td>\n",
              "      <td>-0.008983</td>\n",
              "      <td>0.014724</td>\n",
              "      <td>2.69</td>\n",
              "      <td>0</td>\n",
              "    </tr>\n",
              "    <tr>\n",
              "      <th>2</th>\n",
              "      <td>1.0</td>\n",
              "      <td>-1.358354</td>\n",
              "      <td>-1.340163</td>\n",
              "      <td>1.773209</td>\n",
              "      <td>0.379780</td>\n",
              "      <td>-0.503198</td>\n",
              "      <td>1.800499</td>\n",
              "      <td>0.791461</td>\n",
              "      <td>0.247676</td>\n",
              "      <td>-1.514654</td>\n",
              "      <td>0.207643</td>\n",
              "      <td>0.624501</td>\n",
              "      <td>0.066084</td>\n",
              "      <td>0.717293</td>\n",
              "      <td>-0.165946</td>\n",
              "      <td>2.345865</td>\n",
              "      <td>-2.890083</td>\n",
              "      <td>1.109969</td>\n",
              "      <td>-0.121359</td>\n",
              "      <td>-2.261857</td>\n",
              "      <td>0.524980</td>\n",
              "      <td>0.247998</td>\n",
              "      <td>0.771679</td>\n",
              "      <td>0.909412</td>\n",
              "      <td>-0.689281</td>\n",
              "      <td>-0.327642</td>\n",
              "      <td>-0.139097</td>\n",
              "      <td>-0.055353</td>\n",
              "      <td>-0.059752</td>\n",
              "      <td>378.66</td>\n",
              "      <td>0</td>\n",
              "    </tr>\n",
              "    <tr>\n",
              "      <th>3</th>\n",
              "      <td>1.0</td>\n",
              "      <td>-0.966272</td>\n",
              "      <td>-0.185226</td>\n",
              "      <td>1.792993</td>\n",
              "      <td>-0.863291</td>\n",
              "      <td>-0.010309</td>\n",
              "      <td>1.247203</td>\n",
              "      <td>0.237609</td>\n",
              "      <td>0.377436</td>\n",
              "      <td>-1.387024</td>\n",
              "      <td>-0.054952</td>\n",
              "      <td>-0.226487</td>\n",
              "      <td>0.178228</td>\n",
              "      <td>0.507757</td>\n",
              "      <td>-0.287924</td>\n",
              "      <td>-0.631418</td>\n",
              "      <td>-1.059647</td>\n",
              "      <td>-0.684093</td>\n",
              "      <td>1.965775</td>\n",
              "      <td>-1.232622</td>\n",
              "      <td>-0.208038</td>\n",
              "      <td>-0.108300</td>\n",
              "      <td>0.005274</td>\n",
              "      <td>-0.190321</td>\n",
              "      <td>-1.175575</td>\n",
              "      <td>0.647376</td>\n",
              "      <td>-0.221929</td>\n",
              "      <td>0.062723</td>\n",
              "      <td>0.061458</td>\n",
              "      <td>123.50</td>\n",
              "      <td>0</td>\n",
              "    </tr>\n",
              "    <tr>\n",
              "      <th>4</th>\n",
              "      <td>2.0</td>\n",
              "      <td>-1.158233</td>\n",
              "      <td>0.877737</td>\n",
              "      <td>1.548718</td>\n",
              "      <td>0.403034</td>\n",
              "      <td>-0.407193</td>\n",
              "      <td>0.095921</td>\n",
              "      <td>0.592941</td>\n",
              "      <td>-0.270533</td>\n",
              "      <td>0.817739</td>\n",
              "      <td>0.753074</td>\n",
              "      <td>-0.822843</td>\n",
              "      <td>0.538196</td>\n",
              "      <td>1.345852</td>\n",
              "      <td>-1.119670</td>\n",
              "      <td>0.175121</td>\n",
              "      <td>-0.451449</td>\n",
              "      <td>-0.237033</td>\n",
              "      <td>-0.038195</td>\n",
              "      <td>0.803487</td>\n",
              "      <td>0.408542</td>\n",
              "      <td>-0.009431</td>\n",
              "      <td>0.798278</td>\n",
              "      <td>-0.137458</td>\n",
              "      <td>0.141267</td>\n",
              "      <td>-0.206010</td>\n",
              "      <td>0.502292</td>\n",
              "      <td>0.219422</td>\n",
              "      <td>0.215153</td>\n",
              "      <td>69.99</td>\n",
              "      <td>0</td>\n",
              "    </tr>\n",
              "  </tbody>\n",
              "</table>\n",
              "</div>"
            ],
            "text/plain": [
              "   Time        V1        V2        V3  ...       V27       V28  Amount  Class\n",
              "0   0.0 -1.359807 -0.072781  2.536347  ...  0.133558 -0.021053  149.62      0\n",
              "1   0.0  1.191857  0.266151  0.166480  ... -0.008983  0.014724    2.69      0\n",
              "2   1.0 -1.358354 -1.340163  1.773209  ... -0.055353 -0.059752  378.66      0\n",
              "3   1.0 -0.966272 -0.185226  1.792993  ...  0.062723  0.061458  123.50      0\n",
              "4   2.0 -1.158233  0.877737  1.548718  ...  0.219422  0.215153   69.99      0\n",
              "\n",
              "[5 rows x 31 columns]"
            ]
          },
          "metadata": {
            "tags": []
          },
          "execution_count": 4
        }
      ]
    },
    {
      "cell_type": "code",
      "metadata": {
        "id": "iu4SeNlI4TTx",
        "colab_type": "code",
        "outputId": "f9ce42de-415a-4aac-875d-061254b0104d",
        "colab": {
          "base_uri": "https://localhost:8080/",
          "height": 655
        }
      },
      "source": [
        "#observe the different feature type present in the data\n",
        "df.info()"
      ],
      "execution_count": 5,
      "outputs": [
        {
          "output_type": "stream",
          "text": [
            "<class 'pandas.core.frame.DataFrame'>\n",
            "RangeIndex: 284807 entries, 0 to 284806\n",
            "Data columns (total 31 columns):\n",
            " #   Column  Non-Null Count   Dtype  \n",
            "---  ------  --------------   -----  \n",
            " 0   Time    284807 non-null  float64\n",
            " 1   V1      284807 non-null  float64\n",
            " 2   V2      284807 non-null  float64\n",
            " 3   V3      284807 non-null  float64\n",
            " 4   V4      284807 non-null  float64\n",
            " 5   V5      284807 non-null  float64\n",
            " 6   V6      284807 non-null  float64\n",
            " 7   V7      284807 non-null  float64\n",
            " 8   V8      284807 non-null  float64\n",
            " 9   V9      284807 non-null  float64\n",
            " 10  V10     284807 non-null  float64\n",
            " 11  V11     284807 non-null  float64\n",
            " 12  V12     284807 non-null  float64\n",
            " 13  V13     284807 non-null  float64\n",
            " 14  V14     284807 non-null  float64\n",
            " 15  V15     284807 non-null  float64\n",
            " 16  V16     284807 non-null  float64\n",
            " 17  V17     284807 non-null  float64\n",
            " 18  V18     284807 non-null  float64\n",
            " 19  V19     284807 non-null  float64\n",
            " 20  V20     284807 non-null  float64\n",
            " 21  V21     284807 non-null  float64\n",
            " 22  V22     284807 non-null  float64\n",
            " 23  V23     284807 non-null  float64\n",
            " 24  V24     284807 non-null  float64\n",
            " 25  V25     284807 non-null  float64\n",
            " 26  V26     284807 non-null  float64\n",
            " 27  V27     284807 non-null  float64\n",
            " 28  V28     284807 non-null  float64\n",
            " 29  Amount  284807 non-null  float64\n",
            " 30  Class   284807 non-null  int64  \n",
            "dtypes: float64(30), int64(1)\n",
            "memory usage: 67.4 MB\n"
          ],
          "name": "stdout"
        }
      ]
    },
    {
      "cell_type": "markdown",
      "metadata": {
        "id": "6pAD8O_H4TT2",
        "colab_type": "text"
      },
      "source": [
        "Here we will observe the distribution of our classes"
      ]
    },
    {
      "cell_type": "code",
      "metadata": {
        "id": "vloUeSqV4TT3",
        "colab_type": "code",
        "colab": {}
      },
      "source": [
        "classes=df['Class'].value_counts()\n",
        "normal_share=classes[0]/df['Class'].count()*100\n",
        "fraud_share=classes[1]/df['Class'].count()*100"
      ],
      "execution_count": 0,
      "outputs": []
    },
    {
      "cell_type": "code",
      "metadata": {
        "id": "viW3K5pm4TT9",
        "colab_type": "code",
        "outputId": "11d5fd81-d0c1-4d01-ecac-f39677149fcc",
        "colab": {
          "base_uri": "https://localhost:8080/",
          "height": 295
        }
      },
      "source": [
        "# Create a bar plot for the number and percentage of fraudulent vs non-fraudulent transcations\n",
        "percent_share = iter((normal_share,fraud_share))\n",
        "\n",
        "percent_plot = sns.barplot(df['Class'].unique(),df['Class'].value_counts(),orient='v')\n",
        "percent_plot.set(xlabel='Class',ylabel='Count',title='Number and Percentage Distribution')\n",
        "\n",
        "for p in percent_plot.patches:\n",
        "    percent_plot.annotate(format(next(percent_share),'.2f'), (p.get_x() + p.get_width() / 2., p.get_height()), ha = 'center', va = 'center', xytext = (0, 5),textcoords = 'offset points')"
      ],
      "execution_count": 7,
      "outputs": [
        {
          "output_type": "display_data",
          "data": {
            "image/png": "[encoded data removed]",
            "text/plain": [
              "<Figure size 432x288 with 1 Axes>"
            ]
          },
          "metadata": {
            "tags": [],
            "needs_background": "light"
          }
        }
      ]
    },
    {
      "cell_type": "code",
      "metadata": {
        "id": "xQHs2Qk-4TUC",
        "colab_type": "code",
        "outputId": "ff524dc2-4f32-4039-c939-969699e106b6",
        "colab": {
          "base_uri": "https://localhost:8080/",
          "height": 296
        }
      },
      "source": [
        "# Create a scatter plot to observe the distribution of classes with time\n",
        "df1=df[['Time','Class']]\n",
        "df1.plot.scatter(x='Time',y='Class',c='DarkBlue')"
      ],
      "execution_count": 8,
      "outputs": [
        {
          "output_type": "execute_result",
          "data": {
            "text/plain": [
              "<matplotlib.axes._subplots.AxesSubplot at 0x7f0207a16b70>"
            ]
          },
          "metadata": {
            "tags": []
          },
          "execution_count": 8
        },
        {
          "output_type": "display_data",
          "data": {
            "image/png": "[encoded data removed]",
            "text/plain": [
              "<Figure size 432x288 with 1 Axes>"
            ]
          },
          "metadata": {
            "tags": [],
            "needs_background": "light"
          }
        }
      ]
    },
    {
      "cell_type": "code",
      "metadata": {
        "id": "erZkLAs84TUI",
        "colab_type": "code",
        "outputId": "44872d97-cd1f-4ac0-9cc1-9139692bc4c6",
        "colab": {
          "base_uri": "https://localhost:8080/",
          "height": 296
        }
      },
      "source": [
        "# Create a scatter plot to observe the distribution of classes with Amount\n",
        "df3=df[['Amount','Class']]\n",
        "df3.plot.scatter(x='Amount',y='Class',c='DarkBlue')"
      ],
      "execution_count": 9,
      "outputs": [
        {
          "output_type": "execute_result",
          "data": {
            "text/plain": [
              "<matplotlib.axes._subplots.AxesSubplot at 0x7f02079a1e10>"
            ]
          },
          "metadata": {
            "tags": []
          },
          "execution_count": 9
        },
        {
          "output_type": "display_data",
          "data": {
            "image/png": "[encoded data removed]",
            "text/plain": [
              "<Figure size 432x288 with 1 Axes>"
            ]
          },
          "metadata": {
            "tags": [],
            "needs_background": "light"
          }
        }
      ]
    },
    {
      "cell_type": "code",
      "metadata": {
        "id": "9a9OtOw-4TUP",
        "colab_type": "code",
        "colab": {}
      },
      "source": [
        "# Drop unnecessary columns\n",
        "# The classes are distributed randomly over the time, thus there is no significance of the time variable.\n",
        "df.drop(columns=['Time'],inplace=True) "
      ],
      "execution_count": 0,
      "outputs": []
    },
    {
      "cell_type": "markdown",
      "metadata": {
        "id": "cBLv9I354TUT",
        "colab_type": "text"
      },
      "source": [
        "### Splitting the data into train & test data"
      ]
    },
    {
      "cell_type": "code",
      "metadata": {
        "id": "ynUlBq5R4TUU",
        "colab_type": "code",
        "colab": {}
      },
      "source": [
        "y= df['Class']#class variable"
      ],
      "execution_count": 0,
      "outputs": []
    },
    {
      "cell_type": "code",
      "metadata": {
        "id": "AaFxfJSh4TUb",
        "colab_type": "code",
        "colab": {}
      },
      "source": [
        "from sklearn import model_selection\n",
        "from sklearn.model_selection import train_test_split\n",
        "X = df.drop(columns=['Class'])\n",
        "X_train, X_test, y_train, y_test = train_test_split(X,y,train_size = 0.7,test_size=0.3)"
      ],
      "execution_count": 0,
      "outputs": []
    },
    {
      "cell_type": "markdown",
      "metadata": {
        "id": "DyKX6vCJ4TUg",
        "colab_type": "text"
      },
      "source": [
        "##### Preserve X_test & y_test to evaluate on the test data once you build the model"
      ]
    },
    {
      "cell_type": "code",
      "metadata": {
        "id": "KUJuexZ94TUg",
        "colab_type": "code",
        "outputId": "a8398b54-f9bf-49d5-d422-f11a9ebda0e4",
        "colab": {
          "base_uri": "https://localhost:8080/",
          "height": 67
        }
      },
      "source": [
        "print(np.sum(y))\n",
        "print(np.sum(y_train))\n",
        "print(np.sum(y_test))"
      ],
      "execution_count": 14,
      "outputs": [
        {
          "output_type": "stream",
          "text": [
            "492\n",
            "351\n",
            "141\n"
          ],
          "name": "stdout"
        }
      ]
    },
    {
      "cell_type": "markdown",
      "metadata": {
        "id": "O7yqGf2B4TUp",
        "colab_type": "text"
      },
      "source": [
        "### Plotting the distribution of a variable"
      ]
    },
    {
      "cell_type": "code",
      "metadata": {
        "scrolled": false,
        "id": "YTabD61K4TUq",
        "colab_type": "code",
        "outputId": "e49a9b01-264a-4012-8f45-95f690e9412d",
        "colab": {
          "base_uri": "https://localhost:8080/",
          "height": 282
        }
      },
      "source": [
        "# plot the histogram of a variable from the dataset to see the skewness\n",
        "X_train['Amount'].hist()"
      ],
      "execution_count": 0,
      "outputs": [
        {
          "output_type": "execute_result",
          "data": {
            "text/plain": [
              "<matplotlib.axes._subplots.AxesSubplot at 0x7f809de08518>"
            ]
          },
          "metadata": {
            "tags": []
          },
          "execution_count": 15
        },
        {
          "output_type": "display_data",
          "data": {
            "image/png": "[encoded data removed]",
            "text/plain": [
              "<Figure size 432x288 with 1 Axes>"
            ]
          },
          "metadata": {
            "tags": [],
            "needs_background": "light"
          }
        }
      ]
    },
    {
      "cell_type": "markdown",
      "metadata": {
        "id": "iHhiJGBt4TUv",
        "colab_type": "text"
      },
      "source": [
        "### If there is skewness present in the distribution use:\n",
        "- <b>Power Transformer</b> package present in the <b>preprocessing library provided by sklearn</b> to make distribution more gaussian"
      ]
    },
    {
      "cell_type": "code",
      "metadata": {
        "id": "scZdn5Ow4TUw",
        "colab_type": "code",
        "colab": {}
      },
      "source": [
        "# - Apply : preprocessing.PowerTransformer(copy=False) to fit & transform the train & test data"
      ],
      "execution_count": 0,
      "outputs": []
    },
    {
      "cell_type": "code",
      "metadata": {
        "id": "lbYuE8FC4TU1",
        "colab_type": "code",
        "colab": {}
      },
      "source": [
        "pt = preprocessing.PowerTransformer(copy=False)\n",
        "X_train_pt_array = pt.fit_transform(X_train)\n",
        "X_test_pt_array = pt.transform(X_test)"
      ],
      "execution_count": 0,
      "outputs": []
    },
    {
      "cell_type": "code",
      "metadata": {
        "id": "7f0gLLOo4TU5",
        "colab_type": "code",
        "colab": {}
      },
      "source": [
        "# Creating dataframe for train and test dataset.\n",
        "X_train_pt = pd.DataFrame(X_train_pt_array,columns=X_train.columns)\n",
        "X_test_pt = pd.DataFrame(X_test_pt_array,columns=X_test.columns)"
      ],
      "execution_count": 0,
      "outputs": []
    },
    {
      "cell_type": "code",
      "metadata": {
        "id": "p7tUHf3y4TU-",
        "colab_type": "code",
        "outputId": "80d14017-db1a-4696-c641-7058a297a733",
        "colab": {
          "base_uri": "https://localhost:8080/",
          "height": 282
        }
      },
      "source": [
        "# plot the histogram of a variable from the dataset again to see the result \n",
        "X_train_pt['Amount'].hist()"
      ],
      "execution_count": 0,
      "outputs": [
        {
          "output_type": "execute_result",
          "data": {
            "text/plain": [
              "<matplotlib.axes._subplots.AxesSubplot at 0x7f809dd4f080>"
            ]
          },
          "metadata": {
            "tags": []
          },
          "execution_count": 19
        },
        {
          "output_type": "display_data",
          "data": {
            "image/png": "[encoded data removed]",
            "text/plain": [
              "<Figure size 432x288 with 1 Axes>"
            ]
          },
          "metadata": {
            "tags": [],
            "needs_background": "light"
          }
        }
      ]
    },
    {
      "cell_type": "markdown",
      "metadata": {
        "id": "d6FA9ppz4TVD",
        "colab_type": "text"
      },
      "source": [
        "## Model Building\n",
        "- Build different models on the imbalanced dataset and see the result"
      ]
    },
    {
      "cell_type": "code",
      "metadata": {
        "scrolled": false,
        "id": "q6sIAGbK4TVE",
        "colab_type": "code",
        "colab": {}
      },
      "source": [
        "# Logistic Regression\n",
        "from sklearn import linear_model #import the package\n",
        "\n",
        "num_C = [2,5,10,15,20]  #--> list of values\n",
        "cv_num = [2,4,6]  #--> list of values"
      ],
      "execution_count": 0,
      "outputs": []
    },
    {
      "cell_type": "markdown",
      "metadata": {
        "id": "WsoZr5Tz4TVK",
        "colab_type": "text"
      },
      "source": [
        "#### perfom cross validation on the X_train & y_train to create:\n",
        "- X_train_cv\n",
        "- X_test_cv \n",
        "- y_train_cv\n",
        "- y_test_cv "
      ]
    },
    {
      "cell_type": "code",
      "metadata": {
        "id": "WlUUazIU4TVL",
        "colab_type": "code",
        "colab": {}
      },
      "source": [
        "y_train.reset_index(inplace=True,drop=True)"
      ],
      "execution_count": 0,
      "outputs": []
    },
    {
      "cell_type": "markdown",
      "metadata": {
        "id": "itZAOHdH4TVP",
        "colab_type": "text"
      },
      "source": [
        "### Logistic Regression - Unbalanced"
      ]
    },
    {
      "cell_type": "code",
      "metadata": {
        "id": "7fhw5D2U4TVQ",
        "colab_type": "code",
        "outputId": "d9cae0db-95b8-41e1-cdad-d69ee7163adf",
        "colab": {
          "base_uri": "https://localhost:8080/",
          "height": 238
        }
      },
      "source": [
        "#perform cross validation\n",
        "\n",
        "skf = StratifiedKFold(n_splits=5,shuffle=True,random_state=100)\n",
        "\n",
        "for train_index,test_index in skf.split(X_train_pt,y_train):\n",
        "    X_train_cv,X_test_cv = X_train_pt.loc[train_index],X_train_pt.loc[test_index]\n",
        "    y_train_cv,y_test_cv = y_train.loc[train_index],y_train.loc[test_index]\n",
        "    \n",
        "#perform hyperparameter tuning\n",
        "\n",
        "params = {'C':[0.01,0.05,0.1,0.25,0.5,1,2,5,10]}\n",
        "\n",
        "lr = LogisticRegression()\n",
        "\n",
        "model_lr_grid = GridSearchCV(estimator = lr, \n",
        "                        param_grid = params, \n",
        "                        scoring= 'f1', \n",
        "                        cv = 5, \n",
        "                        return_train_score=True,\n",
        "                        verbose = 1) \n",
        "model_lr_grid.fit(X_train_cv,y_train_cv)\n",
        "print(\"Best Estimator - \",model_lr_grid.best_estimator_)\n",
        "print(\"Best Accuracy - \", model_lr_grid.best_score_)\n",
        "\n",
        "\n",
        "#print the evaluation result by choosing a evaluation metric\n",
        "model_lr_grid_pred = model_lr_grid.predict(X_test_cv)\n",
        "\n",
        "\n",
        "print(\"F1-score: \",f1_score(y_true = y_test_cv,y_pred = model_lr_grid_pred))\n",
        "print(\"Recall-score: \",recall_score(y_true = y_test_cv,y_pred = model_lr_grid_pred))\n",
        "print(\"Precision-score: \",precision_score(y_true = y_test_cv,y_pred = model_lr_grid_pred))               \n",
        "\n",
        "#print the optimum value of hyperparameters\n",
        "print(\"Optimal value of Hyperparameter - \", model_lr_grid.best_params_)"
      ],
      "execution_count": 0,
      "outputs": [
        {
          "output_type": "stream",
          "text": [
            "Fitting 5 folds for each of 9 candidates, totalling 45 fits\n"
          ],
          "name": "stdout"
        },
        {
          "output_type": "stream",
          "text": [
            "[Parallel(n_jobs=1)]: Using backend SequentialBackend with 1 concurrent workers.\n",
            "[Parallel(n_jobs=1)]: Done  45 out of  45 | elapsed:   51.1s finished\n"
          ],
          "name": "stderr"
        },
        {
          "output_type": "stream",
          "text": [
            "Best Estimator -  LogisticRegression(C=1, class_weight=None, dual=False, fit_intercept=True,\n",
            "                   intercept_scaling=1, l1_ratio=None, max_iter=100,\n",
            "                   multi_class='auto', n_jobs=None, penalty='l2',\n",
            "                   random_state=None, solver='lbfgs', tol=0.0001, verbose=0,\n",
            "                   warm_start=False)\n",
            "Best Accuracy -  0.7404137817070147\n",
            "F1-score:  0.8270676691729323\n",
            "Recall-score:  0.7746478873239436\n",
            "Precision-score:  0.8870967741935484\n",
            "Optimal value of Hyperparameter -  {'C': 1}\n"
          ],
          "name": "stdout"
        }
      ]
    },
    {
      "cell_type": "code",
      "metadata": {
        "id": "zVGNP_Cf4TVU",
        "colab_type": "code",
        "outputId": "f76040e5-cb43-450e-acf0-ad178cf4881a",
        "colab": {
          "base_uri": "https://localhost:8080/",
          "height": 68
        }
      },
      "source": [
        "print(\"F1-score: \",f1_score(y_true = y_test_cv,y_pred = model_lr_grid_pred,average=None))\n",
        "print(\"Recall-score: \",recall_score(y_true = y_test_cv,y_pred = model_lr_grid_pred,average=None))\n",
        "print(\"Precision-score: \",precision_score(y_true = y_test_cv,y_pred = model_lr_grid_pred,average=None))               \n"
      ],
      "execution_count": 0,
      "outputs": [
        {
          "output_type": "stream",
          "text": [
            "F1-score:  [0.9997111  0.82706767]\n",
            "Recall-score:  [0.99982413 0.77464789]\n",
            "Precision-score:  [0.99959809 0.88709677]\n"
          ],
          "name": "stdout"
        }
      ]
    },
    {
      "cell_type": "markdown",
      "metadata": {
        "id": "2kDcMchE4TVY",
        "colab_type": "text"
      },
      "source": [
        "### XGBoost - Unbalanced"
      ]
    },
    {
      "cell_type": "code",
      "metadata": {
        "id": "nv8IPA0d4TVY",
        "colab_type": "code",
        "outputId": "51add3f1-3349-429f-971f-220dbc40caf1",
        "colab": {
          "base_uri": "https://localhost:8080/",
          "height": 357
        }
      },
      "source": [
        "#perform cross validation\n",
        "\n",
        "skf = StratifiedKFold(n_splits=5,shuffle=True,random_state=100)\n",
        "\n",
        "for train_index,test_index in skf.split(X_train_pt,y_train):\n",
        "    X_train_cv,X_test_cv = X_train_pt.loc[train_index],X_train_pt.loc[test_index]\n",
        "    y_train_cv,y_test_cv = y_train.loc[train_index],y_train.loc[test_index]\n",
        "    \n",
        "#perform hyperparameter tuning\n",
        "\n",
        "params = {'learning_rate': [0.05,0.1,0.25],\n",
        "         'n_estimators': [50,100],\n",
        "         'min_samples_leaf': [10,15]}\n",
        "\n",
        "gbc = GradientBoostingClassifier()\n",
        "\n",
        "model_gbc_grid = GridSearchCV(estimator = gbc, \n",
        "                        param_grid = params, \n",
        "                        scoring= 'f1', \n",
        "                        cv = 5, \n",
        "                                            return_train_score=True,\n",
        "                        verbose = 1,\n",
        "                        n_jobs=-1) \n",
        "model_gbc_grid.fit(X_train_cv,y_train_cv)\n",
        "print(\"Best Estimator - \",model_gbc_grid.best_estimator_)\n",
        "print(\"Best Accuracy - \", model_gbc_grid.best_score_)\n",
        "\n",
        "\n",
        "#print the evaluation result by choosing a evaluation metric\n",
        "model_dt_grid_pred = model_gbc_grid.predict(X_test_cv)\n",
        "\n",
        "\n",
        "print(\"F1-score: \",f1_score(y_true = y_test_cv,y_pred = model_dt_grid_pred))\n",
        "print(\"Recall-score: \",recall_score(y_true = y_test_cv,y_pred = model_dt_grid_pred))\n",
        "print(\"Precision-score: \",precision_score(y_true = y_test_cv,y_pred = model_dt_grid_pred))               \n",
        "\n",
        "#print the optimum value of hyperparameters\n",
        "print(\"Optimal value of Hyperparameter - \", model_gbc_grid.best_params_)"
      ],
      "execution_count": 0,
      "outputs": [
        {
          "output_type": "stream",
          "text": [
            "Fitting 5 folds for each of 48 candidates, totalling 240 fits\n"
          ],
          "name": "stdout"
        },
        {
          "output_type": "stream",
          "text": [
            "[Parallel(n_jobs=-1)]: Using backend LokyBackend with 2 concurrent workers.\n",
            "[Parallel(n_jobs=-1)]: Done  46 tasks      | elapsed: 65.6min\n",
            "[Parallel(n_jobs=-1)]: Done 196 tasks      | elapsed: 296.1min\n",
            "[Parallel(n_jobs=-1)]: Done 240 out of 240 | elapsed: 366.3min finished\n"
          ],
          "name": "stderr"
        },
        {
          "output_type": "stream",
          "text": [
            "Best Estimator -  GradientBoostingClassifier(ccp_alpha=0.0, criterion='friedman_mse', init=None,\n",
            "                           learning_rate=0.05, loss='deviance', max_depth=3,\n",
            "                           max_features=None, max_leaf_nodes=None,\n",
            "                           min_impurity_decrease=0.0, min_impurity_split=None,\n",
            "                           min_samples_leaf=5, min_samples_split=2,\n",
            "                           min_weight_fraction_leaf=0.0, n_estimators=100,\n",
            "                           n_iter_no_change=None, presort='deprecated',\n",
            "                           random_state=None, subsample=1.0, tol=0.0001,\n",
            "                           validation_fraction=0.1, verbose=0,\n",
            "                           warm_start=False)\n",
            "Best Accuracy -  0.775314465408805\n",
            "F1-score:  0.8307692307692307\n",
            "Recall-score:  0.7605633802816901\n",
            "Precision-score:  0.9152542372881356\n",
            "Optimal value of Hyperparameter -  {'learning_rate': 0.05, 'min_samples_leaf': 5, 'n_estimators': 100}\n"
          ],
          "name": "stdout"
        }
      ]
    },
    {
      "cell_type": "markdown",
      "metadata": {
        "id": "rgPFZ0S-4TVd",
        "colab_type": "text"
      },
      "source": [
        "### Random Forests - Unbalanced"
      ]
    },
    {
      "cell_type": "code",
      "metadata": {
        "id": "ua7Xgp7B4TVe",
        "colab_type": "code",
        "outputId": "5849ec03-0acc-4fdd-8dec-b3f8a8a1e8eb",
        "colab": {
          "base_uri": "https://localhost:8080/",
          "height": 306
        }
      },
      "source": [
        "#perform cross validation\n",
        "skf = StratifiedKFold(n_splits=5,shuffle=True,random_state=100)\n",
        "\n",
        "for train_index,test_index in skf.split(X_train_pt,y_train):\n",
        "    X_train_cv,X_test_cv = X_train_pt.loc[train_index],X_train_pt.loc[test_index]\n",
        "    y_train_cv,y_test_cv = y_train.loc[train_index],y_train.loc[test_index]\n",
        "    \n",
        "#perform hyperparameter tuning\n",
        "\n",
        "params = {'n_estimators': [50,75],\n",
        "         'max_depth': [5,15],\n",
        "         'min_samples_split': [10,25,50],\n",
        "         'min_samples_leaf': [5,10,15]}\n",
        "\n",
        "rfc = RandomForestClassifier()\n",
        "\n",
        "model_rf_grid = GridSearchCV(estimator = rfc, \n",
        "                        param_grid = params, \n",
        "                        scoring= 'f1', \n",
        "                        cv = 5, \n",
        "                        return_train_score=True,\n",
        "                        verbose = 1,\n",
        "                        n_jobs=-1) \n",
        "model_rf_grid.fit(X_train_cv,y_train_cv)\n",
        "print(\"Best Estimator - \",model_rf_grid.best_estimator_)\n",
        "print(\"Best Accuracy - \", model_rf_grid.best_score_)\n",
        "\n",
        "\n",
        "#print the evaluation result by choosing a evaluation metric\n",
        "model_rf_grid_pred = model_rf_grid.predict(X_test_cv)\n",
        "\n",
        "print(\"F1-score: \",f1_score(y_true = y_test_cv,y_pred = model_rf_grid_pred))\n",
        "print(\"Recall-score: \",recall_score(y_true = y_test_cv,y_pred = model_rf_grid_pred))\n",
        "print(\"Precision-score: \",precision_score(y_true = y_test_cv,y_pred = model_rf_grid_pred))               \n",
        "\n",
        "#print the optimum value of hyperparameters\n",
        "print(\"Optimal value of Hyperparameter - \", model_rf_grid.best_params_)"
      ],
      "execution_count": 0,
      "outputs": [
        {
          "output_type": "stream",
          "text": [
            "Fitting 5 folds for each of 36 candidates, totalling 180 fits\n"
          ],
          "name": "stdout"
        },
        {
          "output_type": "stream",
          "text": [
            "[Parallel(n_jobs=-1)]: Using backend LokyBackend with 2 concurrent workers.\n",
            "[Parallel(n_jobs=-1)]: Done  46 tasks      | elapsed: 13.8min\n",
            "[Parallel(n_jobs=-1)]: Done 180 out of 180 | elapsed: 95.4min finished\n"
          ],
          "name": "stderr"
        },
        {
          "output_type": "stream",
          "text": [
            "Best Estimator -  RandomForestClassifier(bootstrap=True, ccp_alpha=0.0, class_weight=None,\n",
            "                       criterion='gini', max_depth=15, max_features='auto',\n",
            "                       max_leaf_nodes=None, max_samples=None,\n",
            "                       min_impurity_decrease=0.0, min_impurity_split=None,\n",
            "                       min_samples_leaf=5, min_samples_split=10,\n",
            "                       min_weight_fraction_leaf=0.0, n_estimators=50,\n",
            "                       n_jobs=None, oob_score=False, random_state=None,\n",
            "                       verbose=0, warm_start=False)\n",
            "Best Accuracy -  0.8286565839218103\n",
            "F1-score:  0.8656716417910447\n",
            "Recall-score:  0.8169014084507042\n",
            "Precision-score:  0.9206349206349206\n",
            "Optimal value of Hyperparameter -  {'max_depth': 15, 'min_samples_leaf': 5, 'min_samples_split': 10, 'n_estimators': 50}\n"
          ],
          "name": "stdout"
        }
      ]
    },
    {
      "cell_type": "markdown",
      "metadata": {
        "id": "QEtMy6jn4TVi",
        "colab_type": "text"
      },
      "source": [
        "### KNN - Unbalanced"
      ]
    },
    {
      "cell_type": "code",
      "metadata": {
        "id": "lOESdldx4TVj",
        "colab_type": "code",
        "colab": {}
      },
      "source": [
        "#perform cross validation\n",
        "skf = StratifiedKFold(n_splits=5,shuffle=True,random_state=100)\n",
        "\n",
        "for train_index,test_index in skf.split(X_train_pt,y_train):\n",
        "    X_train_cv,X_test_cv = X_train_pt.loc[train_index],X_train_pt.loc[test_index]\n",
        "    y_train_cv,y_test_cv = y_train.loc[train_index],y_train.loc[test_index]\n",
        "    \n",
        "#perform hyperparameter tuning\n",
        "\n",
        "params = {'n_neighbors':[2,4,6,8,10] ,\n",
        "         'leaf_size': [15,20,30,40]}\n",
        "\n",
        "knn = KNeighborsClassifier()\n",
        "\n",
        "model_knn_grid = GridSearchCV(estimator = knn, \n",
        "                        param_grid = params, \n",
        "                        scoring= 'f1', \n",
        "                        cv = 5, \n",
        "                        return_train_score=True,\n",
        "                        verbose = 1,\n",
        "                        n_jobs = -1) \n",
        "model_knn_grid.fit(X_train_cv,y_train_cv)\n",
        "print(\"Best Estimator - \",model_knn_grid.best_estimator_)\n",
        "print(\"Best Accuracy - \", model_knn_grid.best_score_)\n",
        "\n",
        "\n",
        "#print the evaluation result by choosing a evaluation metric\n",
        "model_knn_grid_pred = model_knn_grid.predict(X_test_cv)\n",
        "\n",
        "print(\"F1-score: \",f1_score(y_true = y_test_cv,y_pred = model_knn_grid_pred))\n",
        "print(\"Recall-score: \",recall_score(y_true = y_test_cv,y_pred = model_knn_grid_pred))\n",
        "print(\"Precision-score: \",precision_score(y_true = y_test_cv,y_pred = model_knn_grid_pred))               \n",
        "\n",
        "#print the optimum value of hyperparameters\n",
        "print(\"Optimal value of Hyperparameter - \", model_knn_grid.best_params_)"
      ],
      "execution_count": 0,
      "outputs": []
    },
    {
      "cell_type": "markdown",
      "metadata": {
        "id": "LU-RlbPd4TVp",
        "colab_type": "text"
      },
      "source": [
        "### Similarly explore other algorithms by building models like:\n",
        "- KNN\n",
        "- SVM\n",
        "- Decision Tree\n",
        "- Random Forest\n",
        "- XGBoost"
      ]
    },
    {
      "cell_type": "markdown",
      "metadata": {
        "id": "SmGHz4nB4TVq",
        "colab_type": "text"
      },
      "source": [
        "#### Proceed with the model which shows the best result \n",
        "- Apply the best hyperparameter on the model\n",
        "- Predict on the test dataset"
      ]
    },
    {
      "cell_type": "code",
      "metadata": {
        "id": "Bvguq-0R4TVs",
        "colab_type": "code",
        "outputId": "10988f9a-021c-4a14-b13f-552c29d816a2",
        "colab": {
          "base_uri": "https://localhost:8080/",
          "height": 68
        }
      },
      "source": [
        "clf = RandomForestClassifier(max_depth= 15, min_samples_leaf= 5, min_samples_split= 10, n_estimators= 50)  #initialise the model with optimum hyperparameters\n",
        "clf.fit(X_train, y_train)\n",
        "# print --> #print the evaluation score on the X_test by choosing the best evaluation metric\n",
        "clf_pred = clf.predict(X_test)\n",
        "\n",
        "print(\"F1-score: \",f1_score(y_true = y_test,y_pred = clf_pred))\n",
        "print(\"Recall-score: \",recall_score(y_true = y_test,y_pred = clf_pred))\n",
        "print(\"Precision-score: \",precision_score(y_true = y_test,y_pred = clf_pred))               \n"
      ],
      "execution_count": 0,
      "outputs": [
        {
          "output_type": "stream",
          "text": [
            "F1-score:  0.818840579710145\n",
            "Recall-score:  0.7533333333333333\n",
            "Precision-score:  0.8968253968253969\n"
          ],
          "name": "stdout"
        }
      ]
    },
    {
      "cell_type": "markdown",
      "metadata": {
        "id": "wsVKeHTf4TVw",
        "colab_type": "text"
      },
      "source": [
        "### Print the important features of the best model to understand the dataset\n",
        "- This will not give much explanation on the already transformed dataset\n",
        "- But it will help us in understanding if the dataset is not PCA transformed"
      ]
    },
    {
      "cell_type": "code",
      "metadata": {
        "id": "lFOpxQwW4TVx",
        "colab_type": "code",
        "outputId": "2e231a02-f1d8-478d-c758-efe8f5bd522b",
        "colab": {
          "base_uri": "https://localhost:8080/",
          "height": 988
        }
      },
      "source": [
        "var_imp = []\n",
        "for i in clf.feature_importances_:\n",
        "    var_imp.append(i)\n",
        "print('Top var =', var_imp.index(np.sort(clf.feature_importances_)[-1])+1)\n",
        "print('2nd Top var =', var_imp.index(np.sort(clf.feature_importances_)[-2])+1)\n",
        "print('3rd Top var =', var_imp.index(np.sort(clf.feature_importances_)[-3])+1)\n",
        "\n",
        "top_var_index = var_imp.index(np.sort(clf.feature_importances_)[-1])\n",
        "second_top_var_index = var_imp.index(np.sort(clf.feature_importances_)[-2])\n",
        "\n",
        "X_train_1 = X_train.to_numpy()[np.where(y_train==1.0)]\n",
        "X_train_0 = X_train.to_numpy()[np.where(y_train==0.0)]\n",
        "\n",
        "np.random.shuffle(X_train_0)\n",
        "\n",
        "import matplotlib.pyplot as plt\n",
        "%matplotlib inline\n",
        "plt.rcParams['figure.figsize'] = [20, 20]\n",
        "\n",
        "plt.scatter(X_train_1[:, top_var_index], X_train_1[:, second_top_var_index], label='Actual Class-1 Examples')\n",
        "plt.scatter(X_train_0[:X_train_1.shape[0], top_var_index], X_train_0[:X_train_1.shape[0], second_top_var_index],\n",
        "            label='Actual Class-0 Examples')\n",
        "plt.legend()"
      ],
      "execution_count": 0,
      "outputs": [
        {
          "output_type": "stream",
          "text": [
            "Top var = 18\n",
            "2nd Top var = 15\n",
            "3rd Top var = 13\n"
          ],
          "name": "stdout"
        },
        {
          "output_type": "execute_result",
          "data": {
            "text/plain": [
              "<matplotlib.legend.Legend at 0x7fa0d241bef0>"
            ]
          },
          "metadata": {
            "tags": []
          },
          "execution_count": 27
        },
        {
          "output_type": "display_data",
          "data": {
            "image/png": "[encoded data removed]",
            "text/plain": [
              "<Figure size 1440x1440 with 1 Axes>"
            ]
          },
          "metadata": {
            "tags": [],
            "needs_background": "light"
          }
        }
      ]
    },
    {
      "cell_type": "markdown",
      "metadata": {
        "id": "rVI4taUN4TV1",
        "colab_type": "text"
      },
      "source": [
        "## Model building with balancing Classes\n",
        "\n",
        "##### Perform class balancing with :\n",
        "- Random Oversampling\n",
        "- SMOTE\n",
        "- ADASYN"
      ]
    },
    {
      "cell_type": "markdown",
      "metadata": {
        "id": "yH2im2k84TV2",
        "colab_type": "text"
      },
      "source": [
        "## Model Building\n",
        "- Build different models on the balanced dataset and see the result"
      ]
    },
    {
      "cell_type": "code",
      "metadata": {
        "id": "osvF2RnG4TV2",
        "colab_type": "code",
        "colab": {}
      },
      "source": [
        "# Logistic Regression\n",
        "from sklearn import linear_model #import the package\n",
        "\n",
        "\n",
        "num_C = [2,5,10,15,20]  #--> list of values\n",
        "cv_num = [2,4,6]  #--> list of values"
      ],
      "execution_count": 0,
      "outputs": []
    },
    {
      "cell_type": "markdown",
      "metadata": {
        "id": "q7CYDs1W4TV6",
        "colab_type": "text"
      },
      "source": [
        "#### perfom cross validation on the X_train & y_train to create:\n",
        "- X_train_cv\n",
        "- X_test_cv \n",
        "- y_train_cv\n",
        "- y_test_cv "
      ]
    },
    {
      "cell_type": "markdown",
      "metadata": {
        "id": "dnVtUQ714TV-",
        "colab_type": "text"
      },
      "source": [
        "### Random Oversampling"
      ]
    },
    {
      "cell_type": "markdown",
      "metadata": {
        "id": "n9W5sIOq_m9I",
        "colab_type": "text"
      },
      "source": [
        "### Decision Tree - Random Oversampling"
      ]
    },
    {
      "cell_type": "code",
      "metadata": {
        "id": "tSuD3FEq_hrg",
        "colab_type": "code",
        "colab": {}
      },
      "source": [
        "#perform cross validation & then balance classes on X_train_cv & y_train_cv using SMOTE\n",
        "\n",
        "skf = StratifiedKFold(n_splits=5,shuffle=True,random_state=100)\n",
        "\n",
        "for train_index,test_index in skf.split(X_train_pt,y_train):\n",
        "    X_train_cv,X_test_cv = X_train_pt.loc[train_index],X_train_pt.loc[test_index]\n",
        "    y_train_cv,y_test_cv = y_train.loc[train_index],y_train.loc[test_index]\n",
        "\n",
        "\n",
        "ros = RandomOverSampler(random_state=0)\n",
        "X_train_cv, y_train_cv = ros.fit_resample(X_train_cv, y_train_cv)\n",
        "print('Resampled dataset shape %s' % Counter(y_train_cv))\n",
        "\n",
        "#perform hyperparameter tuning\n",
        "\n",
        "params = {'max_depth': [5,15],\n",
        "         'min_samples_split': [10,25,50],\n",
        "         'min_samples_leaf': [5,10,15]}\n",
        "\n",
        "rfc = DecisionTreeClassifier()\n",
        "\n",
        "model_rf_grid = GridSearchCV(estimator = rfc, \n",
        "                        param_grid = params, \n",
        "                        scoring= 'f1', \n",
        "                        cv = 5, \n",
        "                        return_train_score=True,\n",
        "                        verbose = 1,\n",
        "                        n_jobs=-1) \n",
        "model_rf_grid.fit(X_train_cv,y_train_cv)\n",
        "print(\"Best Estimator - \",model_rf_grid.best_estimator_)\n",
        "print(\"Best Accuracy - \", model_rf_grid.best_score_)\n",
        "\n",
        "\n",
        "#print the evaluation result by choosing a evaluation metric\n",
        "clf_pred = model_rf_grid.predict(X_test)\n",
        "print(\"F1-score: \",f1_score(y_true = y_test,y_pred = clf_pred))\n",
        "print(\"Recall-score: \",recall_score(y_true = y_test,y_pred = clf_pred))\n",
        "print(\"Precision-score: \",precision_score(y_true = y_test,y_pred = clf_pred)) \n",
        "\n",
        "#print the optimum value of hyperparameters\n",
        "print(\"Optimal value of Hyperparameter - \", model_rf_grid.best_params_)\n",
        "\n"
      ],
      "execution_count": 0,
      "outputs": []
    },
    {
      "cell_type": "markdown",
      "metadata": {
        "id": "elhhLjnx_siM",
        "colab_type": "text"
      },
      "source": [
        "### Random Forest - Random Oversampling"
      ]
    },
    {
      "cell_type": "code",
      "metadata": {
        "scrolled": true,
        "id": "To0b3KYF4TV_",
        "colab_type": "code",
        "colab": {}
      },
      "source": [
        "#perform cross validation & then balance classes on X_train_cv & y_train_cv using Random Oversampling\n",
        "skf = StratifiedKFold(n_splits=5,shuffle=True,random_state=100)\n",
        "\n",
        "for train_index,test_index in skf.split(X_train_pt,y_train):\n",
        "    X_train_cv,X_test_cv = X_train_pt.loc[train_index],X_train_pt.loc[test_index]\n",
        "    y_train_cv,y_test_cv = y_train.loc[train_index],y_train.loc[test_index]\n",
        "\n",
        "\n",
        "ros = RandomOverSampler(random_state=0)\n",
        "X_train_cv, y_train_cv = ros.fit_resample(X_train_cv, y_train_cv)\n",
        "print('Resampled dataset shape %s' % Counter(y_train_cv))\n",
        "\n",
        "#perform hyperparameter tuning\n",
        "params = {'n_estimators': [50,75],\n",
        "         'max_depth': [5,15],\n",
        "         'min_samples_split': [10,25,50],\n",
        "         'min_samples_leaf': [5,10,15]}\n",
        "\n",
        "rfc = RandomForestClassifier()\n",
        "\n",
        "model_rf_grid = GridSearchCV(estimator = rfc, \n",
        "                        param_grid = params, \n",
        "                        scoring= 'f1', \n",
        "                        cv = 5, \n",
        "                        return_train_score=True,\n",
        "                        verbose = 1,\n",
        "                        n_jobs=-1) \n",
        "model_rf_grid.fit(X_train_cv,y_train_cv)\n",
        "print(\"Best Estimator - \",model_rf_grid.best_estimator_)\n",
        "print(\"Best Accuracy - \", model_rf_grid.best_score_)\n",
        "\n",
        "\n",
        "#print the evaluation result by choosing a evaluation metric\n",
        "clf_pred = model_rf_grid.predict(X_test)\n",
        "print(\"F1-score: \",f1_score(y_true = y_test,y_pred = clf_pred))\n",
        "print(\"Recall-score: \",recall_score(y_true = y_test,y_pred = clf_pred))\n",
        "print(\"Precision-score: \",precision_score(y_true = y_test,y_pred = clf_pred)) \n",
        "\n",
        "#print the optimum value of hyperparameters\n",
        "print(\"Optimal value of Hyperparameter - \", model_rf_grid.best_params_)"
      ],
      "execution_count": 0,
      "outputs": []
    },
    {
      "cell_type": "markdown",
      "metadata": {
        "id": "i08FN8GSMhRx",
        "colab_type": "text"
      },
      "source": [
        "##XGBOOST Random Oversampling"
      ]
    },
    {
      "cell_type": "code",
      "metadata": {
        "id": "srVkQF7VMgJ7",
        "colab_type": "code",
        "colab": {}
      },
      "source": [
        "from sklearn.datasets import make_classification\n",
        "from sklearn.metrics import make_scorer, accuracy_score, precision_score, recall_score, f1_score, roc_auc_score\n",
        "import xgboost as xgb\n",
        "print('Original dataset had 1s: ',np.sum(y_train))\n",
        "ros = RandomOverSampler(random_state=42)\n",
        "X_train_cv, y_train_cv = ros.fit_resample(X_train_pt, y_train)\n",
        "print('Post Random Over Sampling, dataset has 1s: ',np.sum(y_train_cv))\n",
        "\n",
        "print('\\n XG Boost - Random Oversampling\\n')\n",
        "#perform cross validation\n",
        "#seed=7\n",
        "scoring = {'accuracy' : make_scorer(accuracy_score),'precision' : make_scorer(precision_score),'recall' : make_scorer(recall_score),'f1_score' : make_scorer(f1_score), \n",
        "           'roc_auc_score' : make_scorer(roc_auc_score)}\n",
        "kfold = model_selection.StratifiedKFold(n_splits=3, shuffle=False, random_state=None)\n",
        "model = xgb.XGBClassifier()\n",
        "results = model_selection.cross_validate(model, X_train_cv, y_train_cv, cv=kfold,scoring=scoring)\n",
        "print(\"Cross Validation Evaluation before Hyper Parameter Tuning\")\n",
        "print(\"Accuracy: \", results['test_accuracy'].mean())\n",
        "print(\"Precision: \", results['test_precision'].mean())\n",
        "print(\"Recall: \", results['test_recall'].mean())\n",
        "print(\"F1 Score: \", results['test_f1_score'].mean())\n",
        "print(\"AUC: \", results['test_roc_auc_score'].mean())\n",
        "\n",
        "#perform hyperparameter tuning\n",
        "params = {'learning_rate': [0.01],'n_estimators': [5,10,15,20,25,30],'max_depth':[7,8,9],'reg_alpha':[0.3,0.4,0.5]}\n",
        "xgb_model = xgb.XGBClassifier()\n",
        "# Gridsearch initializaation\n",
        "gsearch = GridSearchCV(xgb_model, params,verbose=True,cv=5,n_jobs=2)\n",
        "\n",
        "# Fit grid search\n",
        "best_model_xg_os = gsearch.fit(X_train_cv, y_train_cv)\n",
        "\n",
        "#print the evaluation result by choosing a evaluation metric\n",
        "xg_prediction_os=best_model_xg_os.predict(X_test_pt)\n",
        "precision, recall, fscore, support = score(y_test, xg_prediction_os)\n",
        "print(\"\\n XGBoost with HyperParameter Tuning\")\n",
        "print('precision: {}'.format(precision))\n",
        "print('recall: {}'.format(recall))\n",
        "print('fscore: {}'.format(fscore))\n",
        "print('support: {}'.format(support))\n",
        "\n",
        "#print the optimum value of hyperparameters\n",
        "print('\\n Optimum value of Hyper Parameters')\n",
        "print('Best learning rate:', best_model_xg_os.best_estimator_.get_params()['learning_rate'])\n",
        "print('Best Estimators:', best_model_xg_os.best_estimator_.get_params()['n_estimators'])\n",
        "print('Best Max Depth:', best_model_xg_os.best_estimator_.get_params()['max_depth'])\n",
        "print('Best Alpha:', best_model_xg_os.best_estimator_.get_params()['reg_alpha'])"
      ],
      "execution_count": 0,
      "outputs": []
    },
    {
      "cell_type": "markdown",
      "metadata": {
        "id": "VEaB5Egt4TWG",
        "colab_type": "text"
      },
      "source": [
        "### Print the class distribution after applying SMOTE "
      ]
    },
    {
      "cell_type": "code",
      "metadata": {
        "id": "JftiCRho4TWH",
        "colab_type": "code",
        "outputId": "b6703ef0-094e-4ed6-ae46-2e31e971cbe8",
        "colab": {
          "base_uri": "https://localhost:8080/",
          "height": 1000
        }
      },
      "source": [
        "import warnings\n",
        "warnings.filterwarnings(\"ignore\")\n",
        "from imblearn import over_sampling\n",
        "\n",
        "sm = over_sampling.SMOTE(random_state=0)\n",
        "X_train_smote, y_train_smote = sm.fit_resample(X_train, y_train)\n",
        "# Artificial minority samples and corresponding minority labels from SMOTE are appended\n",
        "# below X_train and y_train respectively\n",
        "# So to exclusively get the artificial minority samples from SMOTE, we do\n",
        "X_train_smote_1 = X_train_smote[X_train.shape[0]:]\n",
        "\n",
        "X_train_1 = X_train.to_numpy()[np.where(y_train==1.0)]\n",
        "X_train_0 = X_train.to_numpy()[np.where(y_train==0.0)]\n",
        "\n",
        "\n",
        "plt.rcParams['figure.figsize'] = [20, 20]\n",
        "fig = plt.figure()\n",
        "\n",
        "plt.subplot(3, 1, 1)\n",
        "plt.scatter(X_train_1[:, 0], X_train_1[:, 1], label='Actual Class-1 Examples')\n",
        "plt.legend()\n",
        "\n",
        "plt.subplot(3, 1, 2)\n",
        "plt.scatter(X_train_1[:, 0], X_train_1[:, 1], label='Actual Class-1 Examples')\n",
        "plt.scatter(X_train_smote_1[:X_train_1.shape[0], 0], X_train_smote_1[:X_train_1.shape[0], 1],\n",
        "            label='Artificial SMOTE Class-1 Examples')\n",
        "plt.legend()\n",
        "\n",
        "plt.subplot(3, 1, 3)\n",
        "plt.scatter(X_train_1[:, 0], X_train_1[:, 1], label='Actual Class-1 Examples')\n",
        "plt.scatter(X_train_0[:X_train_1.shape[0], 0], X_train_0[:X_train_1.shape[0], 1], label='Actual Class-0 Examples')\n",
        "plt.legend()"
      ],
      "execution_count": 0,
      "outputs": [
        {
          "output_type": "execute_result",
          "data": {
            "text/plain": [
              "<matplotlib.legend.Legend at 0x7f4c2d08f278>"
            ]
          },
          "metadata": {
            "tags": []
          },
          "execution_count": 21
        },
        {
          "output_type": "display_data",
          "data": {
            "image/png": "[encoded data removed]",
            "text/plain": [
              "<Figure size 1440x1440 with 3 Axes>"
            ]
          },
          "metadata": {
            "tags": [],
            "needs_background": "light"
          }
        }
      ]
    },
    {
      "cell_type": "markdown",
      "metadata": {
        "id": "3RievfWB3_RY",
        "colab_type": "text"
      },
      "source": [
        "### Decision Tree - SMOTE"
      ]
    },
    {
      "cell_type": "code",
      "metadata": {
        "id": "NovQuwUE27gn",
        "colab_type": "code",
        "outputId": "f87eb2b3-6dad-48a3-a935-2726e378e96e",
        "colab": {
          "base_uri": "https://localhost:8080/",
          "height": 343
        }
      },
      "source": [
        "#perform cross validation & then balance classes on X_train_cv & y_train_cv using SMOTE\n",
        "skf = StratifiedKFold(n_splits=5,shuffle=True,random_state=100)\n",
        "\n",
        "for train_index,test_index in skf.split(X_train_pt,y_train):\n",
        "    X_train_cv,X_test_cv = X_train_pt.loc[train_index],X_train_pt.loc[test_index]\n",
        "    y_train_cv,y_test_cv = y_train.loc[train_index],y_train.loc[test_index]\n",
        "\n",
        "\n",
        "smote = SMOTE(random_state=0)\n",
        "X_train_cv, y_train_cv = smote.fit_resample(X_train_cv, y_train_cv)\n",
        "print('Resampled dataset shape %s' % Counter(y_train_cv))\n",
        "\n",
        "\n",
        "#perform hyperparameter tuning\n",
        "params = {'max_depth': [5,15],\n",
        "         'min_samples_split': [10,25,50],\n",
        "         'min_samples_leaf': [5,10,15]}\n",
        "\n",
        "rfc = DecisionTreeClassifier()\n",
        "\n",
        "model_rf_grid = GridSearchCV(estimator = rfc, \n",
        "                        param_grid = params, \n",
        "                        scoring= 'f1', \n",
        "                        cv = 5, \n",
        "                        return_train_score=True,\n",
        "                        verbose = 1,\n",
        "                        n_jobs=-1) \n",
        "model_rf_grid.fit(X_train_cv,y_train_cv)\n",
        "print(\"Best Estimator - \",model_rf_grid.best_estimator_)\n",
        "print(\"Best Accuracy - \", model_rf_grid.best_score_)\n",
        "\n",
        "\n",
        "#print the evaluation result by choosing a evaluation metric\n",
        "clf_pred = model_rf_grid.predict(X_test)\n",
        "print(\"F1-score: \",f1_score(y_true = y_test,y_pred = clf_pred))\n",
        "print(\"Recall-score: \",recall_score(y_true = y_test,y_pred = clf_pred))\n",
        "print(\"Precision-score: \",precision_score(y_true = y_test,y_pred = clf_pred)) \n",
        "\n",
        "#print the optimum value of hyperparameters\n",
        "print(\"Optimal value of Hyperparameter - \", model_rf_grid.best_params_)\n",
        "\n"
      ],
      "execution_count": 0,
      "outputs": [
        {
          "output_type": "stream",
          "text": [
            "/usr/local/lib/python3.6/dist-packages/sklearn/utils/deprecation.py:87: FutureWarning: Function safe_indexing is deprecated; safe_indexing is deprecated in version 0.22 and will be removed in version 0.24.\n",
            "  warnings.warn(msg, category=FutureWarning)\n"
          ],
          "name": "stderr"
        },
        {
          "output_type": "stream",
          "text": [
            "Resampled dataset shape Counter({0: 159215, 1: 159215})\n",
            "Fitting 5 folds for each of 18 candidates, totalling 90 fits\n"
          ],
          "name": "stdout"
        },
        {
          "output_type": "stream",
          "text": [
            "[Parallel(n_jobs=-1)]: Using backend LokyBackend with 2 concurrent workers.\n",
            "[Parallel(n_jobs=-1)]: Done  46 tasks      | elapsed:  4.0min\n",
            "[Parallel(n_jobs=-1)]: Done  90 out of  90 | elapsed: 13.1min finished\n"
          ],
          "name": "stderr"
        },
        {
          "output_type": "stream",
          "text": [
            "Best Estimator -  DecisionTreeClassifier(ccp_alpha=0.0, class_weight=None, criterion='gini',\n",
            "                       max_depth=15, max_features=None, max_leaf_nodes=None,\n",
            "                       min_impurity_decrease=0.0, min_impurity_split=None,\n",
            "                       min_samples_leaf=5, min_samples_split=10,\n",
            "                       min_weight_fraction_leaf=0.0, presort='deprecated',\n",
            "                       random_state=None, splitter='best')\n",
            "Best Accuracy -  0.9966916726836086\n",
            "F1-score:  0.3449275362318841\n",
            "Recall-score:  0.815068493150685\n",
            "Precision-score:  0.21875\n",
            "Optimal value of Hyperparameter -  {'max_depth': 15, 'min_samples_leaf': 5, 'min_samples_split': 10}\n"
          ],
          "name": "stdout"
        }
      ]
    },
    {
      "cell_type": "markdown",
      "metadata": {
        "id": "I8CvZZ-X4KtJ",
        "colab_type": "text"
      },
      "source": [
        "### Random Forest - SMOTE"
      ]
    },
    {
      "cell_type": "code",
      "metadata": {
        "id": "SJwaqlbx4TWP",
        "colab_type": "code",
        "outputId": "ebd7a4e1-52a1-4b20-d221-1de9eba4631c",
        "colab": {
          "base_uri": "https://localhost:8080/",
          "height": 377
        }
      },
      "source": [
        "#perform cross validation & then balance classes on X_train_cv & y_train_cv using SMOTE\n",
        "\n",
        "skf = StratifiedKFold(n_splits=5,shuffle=True,random_state=100)\n",
        "\n",
        "for train_index,test_index in skf.split(X_train_pt,y_train):\n",
        "    X_train_cv,X_test_cv = X_train_pt.loc[train_index],X_train_pt.loc[test_index]\n",
        "    y_train_cv,y_test_cv = y_train.loc[train_index],y_train.loc[test_index]\n",
        "\n",
        "\n",
        "smote = SMOTE(random_state=0)\n",
        "X_train_cv, y_train_cv = smote.fit_resample(X_train_cv, y_train_cv)\n",
        "print('Resampled dataset shape %s' % Counter(y_train_cv))\n",
        "\n",
        "\n",
        "#perform hyperparameter tuning\n",
        "\n",
        "params = {'n_estimators': [50,75],\n",
        "         'max_depth': [5,15],\n",
        "         'min_samples_split': [10,25],\n",
        "         'min_samples_leaf': [5,10,15]}\n",
        "rfc = RandomForestClassifier()\n",
        "\n",
        "model_rf_grid_smote = GridSearchCV(estimator = rfc, \n",
        "                        param_grid = params, \n",
        "                        scoring= 'f1', \n",
        "                        cv = 5, \n",
        "                        return_train_score=True,\n",
        "                        verbose = 1,\n",
        "                        n_jobs=-1) \n",
        "model_rf_grid_smote.fit(X_train_cv,y_train_cv)\n",
        "print(\"Best Estimator - \",model_rf_grid_smote.best_estimator_)\n",
        "print(\"Best Accuracy - \", model_rf_grid_smote.best_score_)\n",
        "\n",
        "\n",
        "#print the evaluation result by choosing a evaluation metric\n",
        "clf_pred = model_rf_grid_smote.predict(X_test)\n",
        "print(\"F1-score: \",f1_score(y_true = y_test,y_pred = clf_pred))\n",
        "print(\"Recall-score: \",recall_score(y_true = y_test,y_pred = clf_pred))\n",
        "print(\"Precision-score: \",precision_score(y_true = y_test,y_pred = clf_pred)) \n",
        "\n",
        "#print the optimum value of hyperparameters\n",
        "print(\"Optimal value of Hyperparameter - \", model_rf_grid_smote.best_params_)\n",
        "\n"
      ],
      "execution_count": 0,
      "outputs": [
        {
          "output_type": "stream",
          "text": [
            "/usr/local/lib/python3.6/dist-packages/sklearn/utils/deprecation.py:87: FutureWarning: Function safe_indexing is deprecated; safe_indexing is deprecated in version 0.22 and will be removed in version 0.24.\n",
            "  warnings.warn(msg, category=FutureWarning)\n"
          ],
          "name": "stderr"
        },
        {
          "output_type": "stream",
          "text": [
            "Resampled dataset shape Counter({0: 159215, 1: 159215})\n",
            "Fitting 5 folds for each of 24 candidates, totalling 120 fits\n"
          ],
          "name": "stdout"
        },
        {
          "output_type": "stream",
          "text": [
            "[Parallel(n_jobs=-1)]: Using backend LokyBackend with 2 concurrent workers.\n",
            "[Parallel(n_jobs=-1)]: Done  46 tasks      | elapsed: 28.9min\n",
            "[Parallel(n_jobs=-1)]: Done 120 out of 120 | elapsed: 126.1min finished\n"
          ],
          "name": "stderr"
        },
        {
          "output_type": "stream",
          "text": [
            "Best Estimator -  RandomForestClassifier(bootstrap=True, ccp_alpha=0.0, class_weight=None,\n",
            "                       criterion='gini', max_depth=15, max_features='auto',\n",
            "                       max_leaf_nodes=None, max_samples=None,\n",
            "                       min_impurity_decrease=0.0, min_impurity_split=None,\n",
            "                       min_samples_leaf=5, min_samples_split=10,\n",
            "                       min_weight_fraction_leaf=0.0, n_estimators=75,\n",
            "                       n_jobs=None, oob_score=False, random_state=None,\n",
            "                       verbose=0, warm_start=False)\n",
            "Best Accuracy -  0.999560379712079\n",
            "F1-score:  0.7637540453074434\n",
            "Recall-score:  0.8082191780821918\n",
            "Precision-score:  0.7239263803680982\n",
            "Optimal value of Hyperparameter -  {'max_depth': 15, 'min_samples_leaf': 5, 'min_samples_split': 10, 'n_estimators': 75}\n"
          ],
          "name": "stdout"
        }
      ]
    },
    {
      "cell_type": "markdown",
      "metadata": {
        "id": "Zg7RgbI8pjR8",
        "colab_type": "text"
      },
      "source": [
        "##XGBOOST - SMOTE"
      ]
    },
    {
      "cell_type": "code",
      "metadata": {
        "id": "hQWUAouDpmeE",
        "colab_type": "code",
        "colab": {}
      },
      "source": [
        "import warnings\n",
        "warnings.filterwarnings(\"ignore\")\n",
        "from imblearn import over_sampling\n",
        "\n",
        "sm = over_sampling.SMOTE(random_state=0)\n",
        "X_train_smote, y_train_smote = sm.fit_resample(X_train_pt, y_train)\n",
        "print('Original dataset had 1s: ',np.sum(y_train))\n",
        "print('Post Smote, dataset has 1s: ',np.sum(y_train_smote))\n",
        "\n",
        "#perform cross validation\n",
        "#seed=7\n",
        "scoring = {'accuracy' : make_scorer(accuracy_score),'precision' : make_scorer(precision_score),'recall' : make_scorer(recall_score),'f1_score' : make_scorer(f1_score), \n",
        "           'roc_auc_score' : make_scorer(roc_auc_score)}\n",
        "kfold = model_selection.StratifiedKFold(n_splits=3, shuffle=False, random_state=None)\n",
        "model = xgb.XGBClassifier()\n",
        "results = model_selection.cross_validate(model, X_train_smote, y_train_smote, cv=kfold,scoring=scoring)\n",
        "print(\"Cross Validation Evaluation before Hyper Parameter Tuning\")\n",
        "print(\"Accuracy: \", results['test_accuracy'].mean())\n",
        "print(\"Precision: \", results['test_precision'].mean())\n",
        "print(\"Recall: \", results['test_recall'].mean())\n",
        "print(\"F1 Score: \", results['test_f1_score'].mean())\n",
        "print(\"AUC: \", results['test_roc_auc_score'].mean())\n",
        "\n",
        "#perform hyperparameter tuning\n",
        "params = {'learning_rate': [0.01],'n_estimators': [5,10,15,20,25,30],'max_depth':[7,8,9],'reg_alpha':[0.3,0.4,0.5]}\n",
        "xgb_model = xgb.XGBClassifier()\n",
        "# Gridsearch initializaation\n",
        "gsearch = GridSearchCV(xgb_model, params,verbose=True,cv=5,n_jobs=2)\n",
        "\n",
        "# Fit grid search\n",
        "best_model_xg_sm = gsearch.fit(X_train_smote, y_train_smote)\n",
        "\n",
        "#print the evaluation result by choosing a evaluation metric\n",
        "xg_prediction_sm=best_model_xg_sm.predict(X_test_pt)\n",
        "precision, recall, fscore, support = score(y_test, xg_prediction_sm)\n",
        "print(\"XGBoost with HyperParameter Tuning\")\n",
        "print('precision: {}'.format(precision))\n",
        "print('recall: {}'.format(recall))\n",
        "print('fscore: {}'.format(fscore))\n",
        "print('support: {}'.format(support))\n",
        "\n",
        "#print the optimum value of hyperparameters\n",
        "print('Best learning rate:', best_model_xg_sm.best_estimator_.get_params()['learning_rate'])\n",
        "print('Best Estimators:', best_model_xg_sm.best_estimator_.get_params()['n_estimators'])\n",
        "print('Best Max Depth:', best_model_xg_sm.best_estimator_.get_params()['max_depth'])\n",
        "print('Best Alpha:', best_model_xg_sm.best_estimator_.get_params()['reg_alpha'])"
      ],
      "execution_count": 0,
      "outputs": []
    },
    {
      "cell_type": "markdown",
      "metadata": {
        "id": "6YEg-_se4TWT",
        "colab_type": "text"
      },
      "source": [
        "##### Build models on other algorithms to see the better performing on SMOTE"
      ]
    },
    {
      "cell_type": "markdown",
      "metadata": {
        "id": "bseoGDDz4TWT",
        "colab_type": "text"
      },
      "source": [
        "### Print the class distribution after applying ADASYN"
      ]
    },
    {
      "cell_type": "code",
      "metadata": {
        "id": "HOanXq6T4TWU",
        "colab_type": "code",
        "colab": {}
      },
      "source": [
        "import warnings\n",
        "warnings.filterwarnings(\"ignore\")\n",
        "\n",
        "from imblearn import over_sampling\n",
        "\n",
        "ada = over_sampling.ADASYN(random_state=0)\n",
        "X_train_adasyn, y_train_adasyn = ada.fit_resample(X_train, y_train)\n",
        "# Artificial minority samples and corresponding minority labels from ADASYN are appended\n",
        "# below X_train and y_train respectively\n",
        "# So to exclusively get the artificial minority samples from ADASYN, we do\n",
        "X_train_adasyn_1 = X_train_adasyn[X_train.shape[0]:]\n",
        "\n",
        "X_train_1 = X_train.to_numpy()[np.where(y_train==1.0)]\n",
        "X_train_0 = X_train.to_numpy()[np.where(y_train==0.0)]\n",
        "\n",
        "\n",
        "\n",
        "import matplotlib.pyplot as plt\n",
        "%matplotlib inline\n",
        "plt.rcParams['figure.figsize'] = [20, 20]\n",
        "fig = plt.figure()\n",
        "\n",
        "plt.subplot(3, 1, 1)\n",
        "plt.scatter(X_train_1[:, 0], X_train_1[:, 1], label='Actual Class-1 Examples')\n",
        "plt.legend()\n",
        "\n",
        "plt.subplot(3, 1, 2)\n",
        "plt.scatter(X_train_1[:, 0], X_train_1[:, 1], label='Actual Class-1 Examples')\n",
        "plt.scatter(X_train_adasyn_1[:X_train_1.shape[0], 0], X_train_adasyn_1[:X_train_1.shape[0], 1],\n",
        "            label='Artificial ADASYN Class-1 Examples')\n",
        "plt.legend()\n",
        "\n",
        "plt.subplot(3, 1, 3)\n",
        "plt.scatter(X_train_1[:, 0], X_train_1[:, 1], label='Actual Class-1 Examples')\n",
        "plt.scatter(X_train_0[:X_train_1.shape[0], 0], X_train_0[:X_train_1.shape[0], 1], label='Actual Class-0 Examples')\n",
        "plt.legend()"
      ],
      "execution_count": 0,
      "outputs": []
    },
    {
      "cell_type": "markdown",
      "metadata": {
        "id": "EE3DpUiZB4mz",
        "colab_type": "text"
      },
      "source": [
        "### Decision Tree - Adasyn"
      ]
    },
    {
      "cell_type": "code",
      "metadata": {
        "id": "QctMLrtnB3W1",
        "colab_type": "code",
        "outputId": "2000c352-a5f3-4309-e5d1-b226a1ea9203",
        "colab": {
          "base_uri": "https://localhost:8080/",
          "height": 343
        }
      },
      "source": [
        "#perform cross validation & then balance classes on X_train_cv & y_train_cv using SMOTE\n",
        "skf = StratifiedKFold(n_splits=5,shuffle=True,random_state=100)\n",
        "\n",
        "for train_index,test_index in skf.split(X_train_pt,y_train):\n",
        "    X_train_cv,X_test_cv = X_train_pt.loc[train_index],X_train_pt.loc[test_index]\n",
        "    y_train_cv,y_test_cv = y_train.loc[train_index],y_train.loc[test_index]\n",
        "\n",
        "\n",
        "adasyn = ADASYN(random_state=0)\n",
        "X_train_cv, y_train_cv = adasyn.fit_resample(X_train_cv, y_train_cv)\n",
        "print('Resampled dataset shape %s' % Counter(y_train_cv))\n",
        "\n",
        "#perform hyperparameter tuning\n",
        "\n",
        "params = {'max_depth': [5,15,20],\n",
        "         'min_samples_split': [10,25,50],\n",
        "         'min_samples_leaf': [5,10,15]}\n",
        "\n",
        "rfc = DecisionTreeClassifier()\n",
        "\n",
        "model_rf_grid = GridSearchCV(estimator = rfc, \n",
        "                        param_grid = params, \n",
        "                        scoring= 'f1', \n",
        "                        cv = 5, \n",
        "                        return_train_score=True,\n",
        "                        verbose = 1,\n",
        "                        n_jobs=-1) \n",
        "model_rf_grid.fit(X_train_cv,y_train_cv)\n",
        "print(\"Best Estimator - \",model_rf_grid.best_estimator_)\n",
        "print(\"Best Accuracy - \", model_rf_grid.best_score_)\n",
        "\n",
        "\n",
        "#print the evaluation result by choosing a evaluation metric\n",
        "clf_pred = model_rf_grid.predict(X_test)\n",
        "print(\"F1-score: \",f1_score(y_true = y_test,y_pred = clf_pred))\n",
        "print(\"Recall-score: \",recall_score(y_true = y_test,y_pred = clf_pred))\n",
        "print(\"Precision-score: \",precision_score(y_true = y_test,y_pred = clf_pred)) \n",
        "\n",
        "#print the optimum value of hyperparameters\n",
        "print(\"Optimal value of Hyperparameter - \", model_rf_grid.best_params_)\n",
        "\n"
      ],
      "execution_count": 0,
      "outputs": [
        {
          "output_type": "stream",
          "text": [
            "/usr/local/lib/python3.6/dist-packages/sklearn/utils/deprecation.py:87: FutureWarning: Function safe_indexing is deprecated; safe_indexing is deprecated in version 0.22 and will be removed in version 0.24.\n",
            "  warnings.warn(msg, category=FutureWarning)\n"
          ],
          "name": "stderr"
        },
        {
          "output_type": "stream",
          "text": [
            "Resampled dataset shape Counter({0: 199022, 1: 198971})\n",
            "Fitting 5 folds for each of 18 candidates, totalling 90 fits\n"
          ],
          "name": "stdout"
        },
        {
          "output_type": "stream",
          "text": [
            "[Parallel(n_jobs=-1)]: Using backend LokyBackend with 2 concurrent workers.\n",
            "[Parallel(n_jobs=-1)]: Done  46 tasks      | elapsed:  4.8min\n",
            "[Parallel(n_jobs=-1)]: Done  90 out of  90 | elapsed: 14.8min finished\n"
          ],
          "name": "stderr"
        },
        {
          "output_type": "stream",
          "text": [
            "Best Estimator -  DecisionTreeClassifier(ccp_alpha=0.0, class_weight=None, criterion='gini',\n",
            "                       max_depth=15, max_features=None, max_leaf_nodes=None,\n",
            "                       min_impurity_decrease=0.0, min_impurity_split=None,\n",
            "                       min_samples_leaf=15, min_samples_split=25,\n",
            "                       min_weight_fraction_leaf=0.0, presort='deprecated',\n",
            "                       random_state=None, splitter='best')\n",
            "Best Accuracy -  0.9283284287465656\n",
            "F1-score:  0.15530303030303033\n",
            "Recall-score:  0.82\n",
            "Precision-score:  0.08577405857740586\n",
            "Optimal value of Hyperparameter -  {'max_depth': 15, 'min_samples_leaf': 15, 'min_samples_split': 25}\n"
          ],
          "name": "stdout"
        }
      ]
    },
    {
      "cell_type": "markdown",
      "metadata": {
        "id": "3TKifrJ04TWc",
        "colab_type": "text"
      },
      "source": [
        "##### Build models on other algorithms to see the better performing on ADASYN"
      ]
    },
    {
      "cell_type": "markdown",
      "metadata": {
        "id": "G1T1lIqYBuSi",
        "colab_type": "text"
      },
      "source": [
        "### Random Forest - Adasyn "
      ]
    },
    {
      "cell_type": "code",
      "metadata": {
        "id": "87oR7JwX4TWY",
        "colab_type": "code",
        "outputId": "cc9a8798-972b-41d1-da92-17dcb5d7d49f",
        "colab": {
          "base_uri": "https://localhost:8080/",
          "height": 377
        }
      },
      "source": [
        "#perform cross validation \n",
        "skf = StratifiedKFold(n_splits=5,shuffle=True,random_state=100)\n",
        "\n",
        "for train_index,test_index in skf.split(X_train_pt,y_train):\n",
        "    X_train_cv,X_test_cv = X_train_pt.loc[train_index],X_train_pt.loc[test_index]\n",
        "    y_train_cv,y_test_cv = y_train.loc[train_index],y_train.loc[test_index]\n",
        "\n",
        "\n",
        "adasyn = ADASYN(random_state=0)\n",
        "X_train_cv, y_train_cv = adasyn.fit_resample(X_train_cv, y_train_cv)\n",
        "print('Resampled dataset shape %s' % Counter(y_train_cv))\n",
        "\n",
        "\n",
        "#perform hyperparameter tuning\n",
        "\n",
        "params = {'n_estimators': [50,75],\n",
        "         'max_depth': [5,15],\n",
        "         'min_samples_split': [10,25],\n",
        "         'min_samples_leaf': [5,10,15]}\n",
        "rfc = RandomForestClassifier()\n",
        "\n",
        "model_rf_grid = GridSearchCV(estimator = rfc, \n",
        "                        param_grid = params, \n",
        "                        scoring= 'f1', \n",
        "                        cv = 5, \n",
        "                        return_train_score=True,\n",
        "                        verbose = 1,\n",
        "                        n_jobs=-1) \n",
        "model_rf_grid.fit(X_train_cv,y_train_cv)\n",
        "print(\"Best Estimator - \",model_rf_grid.best_estimator_)\n",
        "print(\"Best Accuracy - \", model_rf_grid.best_score_)\n",
        "\n",
        "\n",
        "#print the evaluation result by choosing a evaluation metric\n",
        "clf_pred = model_rf_grid.predict(X_test)\n",
        "print(\"F1-score: \",f1_score(y_true = y_test,y_pred = clf_pred))\n",
        "print(\"Recall-score: \",recall_score(y_true = y_test,y_pred = clf_pred))\n",
        "print(\"Precision-score: \",precision_score(y_true = y_test,y_pred = clf_pred)) \n",
        "\n",
        "#print the optimum value of hyperparameters\n",
        "print(\"Optimal value of Hyperparameter - \", model_rf_grid.best_params_)\n",
        "\n"
      ],
      "execution_count": 0,
      "outputs": [
        {
          "output_type": "stream",
          "text": [
            "/usr/local/lib/python3.6/dist-packages/sklearn/utils/deprecation.py:87: FutureWarning: Function safe_indexing is deprecated; safe_indexing is deprecated in version 0.22 and will be removed in version 0.24.\n",
            "  warnings.warn(msg, category=FutureWarning)\n"
          ],
          "name": "stderr"
        },
        {
          "output_type": "stream",
          "text": [
            "Resampled dataset shape Counter({1: 199027, 0: 199018})\n",
            "Fitting 5 folds for each of 24 candidates, totalling 120 fits\n"
          ],
          "name": "stdout"
        },
        {
          "output_type": "stream",
          "text": [
            "[Parallel(n_jobs=-1)]: Using backend LokyBackend with 2 concurrent workers.\n",
            "[Parallel(n_jobs=-1)]: Done  46 tasks      | elapsed: 36.8min\n",
            "[Parallel(n_jobs=-1)]: Done 120 out of 120 | elapsed: 146.6min finished\n"
          ],
          "name": "stderr"
        },
        {
          "output_type": "stream",
          "text": [
            "Best Estimator -  RandomForestClassifier(bootstrap=True, ccp_alpha=0.0, class_weight=None,\n",
            "                       criterion='gini', max_depth=15, max_features='auto',\n",
            "                       max_leaf_nodes=None, max_samples=None,\n",
            "                       min_impurity_decrease=0.0, min_impurity_split=None,\n",
            "                       min_samples_leaf=10, min_samples_split=10,\n",
            "                       min_weight_fraction_leaf=0.0, n_estimators=50,\n",
            "                       n_jobs=None, oob_score=False, random_state=None,\n",
            "                       verbose=0, warm_start=False)\n",
            "Best Accuracy -  0.9107821061495056\n",
            "F1-score:  0.6373056994818652\n",
            "Recall-score:  0.8424657534246576\n",
            "Precision-score:  0.5125\n",
            "Optimal value of Hyperparameter -  {'max_depth': 15, 'min_samples_leaf': 10, 'min_samples_split': 10, 'n_estimators': 50}\n"
          ],
          "name": "stdout"
        }
      ]
    },
    {
      "cell_type": "markdown",
      "metadata": {
        "id": "Rp_IEXoqqcvO",
        "colab_type": "text"
      },
      "source": [
        "## XGBOOST - ADASYN"
      ]
    },
    {
      "cell_type": "code",
      "metadata": {
        "id": "hsq6El31qb4v",
        "colab_type": "code",
        "colab": {}
      },
      "source": [
        "ada = over_sampling.ADASYN(random_state=0)\n",
        "X_train_adasyn, y_train_adasyn = Ada.fit_resample(X_train_pt, y_train)\n",
        "print('Original dataset had 1s: ',np.sum(y_train))\n",
        "print('Post Adasyn Over Sampling, dataset has 1s: ',np.sum(y_train_adasyn))\n",
        "\n",
        "#perform cross validation\n",
        "#seed=7\n",
        "scoring = {'accuracy' : make_scorer(accuracy_score),'precision' : make_scorer(precision_score),'recall' : make_scorer(recall_score),'f1_score' : make_scorer(f1_score), \n",
        "           'roc_auc_score' : make_scorer(roc_auc_score)}\n",
        "kfold = model_selection.StratifiedKFold(n_splits=3, shuffle=False, random_state=None)\n",
        "model = xgb.XGBClassifier()\n",
        "results = model_selection.cross_validate(model, X_train_adasyn, y_train_adasyn, cv=kfold,scoring=scoring)\n",
        "print(\"Cross Validation Evaluation before Hyper Parameter Tuning\")\n",
        "print(\"Accuracy: \", results['test_accuracy'].mean())\n",
        "print(\"Precision: \", results['test_precision'].mean())\n",
        "print(\"Recall: \", results['test_recall'].mean())\n",
        "print(\"F1 Score: \", results['test_f1_score'].mean())\n",
        "print(\"AUC: \", results['test_roc_auc_score'].mean())\n",
        "\n",
        "#perform hyperparameter tuning\n",
        "params = {'learning_rate': [0.01],'n_estimators': [5,15,20,25,30],'max_depth':[7,8,9],'reg_alpha':[0.3,0.4]}\n",
        "xgb_model = xgb.XGBClassifier()\n",
        "# Gridsearch initializaation\n",
        "gsearch = GridSearchCV(xgb_model, params,verbose=True,cv=5,n_jobs=2)\n",
        "\n",
        "# Fit grid search\n",
        "best_model_xg_ad = gsearch.fit(X_train_adasyn, y_train_adasyn)\n",
        "\n",
        "#print the evaluation result by choosing a evaluation metric\n",
        "xg_prediction_ad=best_model_xg_ad.predict(X_test_pt)\n",
        "precision, recall, fscore, support = score(y_test, xg_prediction_ad)\n",
        "print(\"XGBoost with HyperParameter Tuning\")\n",
        "print('precision: {}'.format(precision))\n",
        "print('recall: {}'.format(recall))\n",
        "print('fscore: {}'.format(fscore))\n",
        "print('support: {}'.format(support))\n",
        "\n",
        "#print the optimum value of hyperparameters\n",
        "print('Best learning rate:', best_model_xg_ad.best_estimator_.get_params()['learning_rate'])\n",
        "print('Best Estimators:', best_model_xg_ad.best_estimator_.get_params()['n_estimators'])\n",
        "print('Best Max Depth:', best_model_xg_ad.best_estimator_.get_params()['max_depth'])\n",
        "print('Best Alpha:', best_model_xg_ad.best_estimator_.get_params()['reg_alpha'])"
      ],
      "execution_count": 0,
      "outputs": []
    },
    {
      "cell_type": "markdown",
      "metadata": {
        "id": "bFs14q984TWd",
        "colab_type": "text"
      },
      "source": [
        "### Select the oversampling method which shows the best result on a model\n",
        "- Apply the best hyperparameter on the model\n",
        "- Predict on the test dataset"
      ]
    },
    {
      "cell_type": "code",
      "metadata": {
        "id": "j_bM0XcC4TWe",
        "colab_type": "code",
        "outputId": "99a1f7d5-0372-4ea8-c6f9-b93606e47e48",
        "colab": {
          "base_uri": "https://localhost:8080/",
          "height": 85
        }
      },
      "source": [
        "# perform the best oversampling method on X_train & y_train\n",
        "smote = SMOTE(random_state=0)\n",
        "X_train, y_train = smote.fit_resample(X_train, y_train)\n",
        "print('Resampled dataset shape %s' % Counter(y_train_cv))\n",
        "# 75,15,5,15\n",
        "clf = RandomForestClassifier(n_estimators=100,max_depth=15,min_samples_leaf=5,min_samples_split=15)  #initialise the model with optimum hyperparameters\n",
        "clf.fit(X_train,y_train) # fit on the balanced dataset\n",
        "\n",
        "# print() --> #print the evaluation score on the X_test by choosing the best evaluation metric\n",
        "clf_pred = clf.predict(X_test)\n",
        "print(\"F1-score: \",f1_score(y_true = y_test,y_pred = clf_pred))\n",
        "print(\"Recall-score: \",recall_score(y_true = y_test,y_pred = clf_pred))\n",
        "print(\"Precision-score: \",precision_score(y_true = y_test,y_pred = clf_pred)) \n"
      ],
      "execution_count": 0,
      "outputs": [
        {
          "output_type": "stream",
          "text": [
            "Resampled dataset shape Counter({0: 199018, 1: 199018})\n",
            "F1-score:  0.7731629392971245\n",
            "Recall-score:  0.8287671232876712\n",
            "Precision-score:  0.7245508982035929\n"
          ],
          "name": "stdout"
        }
      ]
    },
    {
      "cell_type": "markdown",
      "metadata": {
        "id": "AfPNHBct4TWj",
        "colab_type": "text"
      },
      "source": [
        "### Print the important features of the best model to understand the dataset"
      ]
    },
    {
      "cell_type": "code",
      "metadata": {
        "id": "UQaQAJow4TWk",
        "colab_type": "code",
        "colab": {}
      },
      "source": [
        "var_imp = []\n",
        "for i in clf.feature_importances_:\n",
        "    var_imp.append(i)\n",
        "print('Top var =', var_imp.index(np.sort(clf.feature_importances_)[-1])+1)\n",
        "print('2nd Top var =', var_imp.index(np.sort(clf.feature_importances_)[-2])+1)\n",
        "print('3rd Top var =', var_imp.index(np.sort(clf.feature_importances_)[-3])+1)\n",
        "\n",
        "top_var_index = var_imp.index(np.sort(clf.feature_importances_)[-1])\n",
        "second_top_var_index = var_imp.index(np.sort(clf.feature_importances_)[-2])\n",
        "\n",
        "X_train_1 = X_train.to_numpy()[np.where(y_train==1.0)]\n",
        "X_train_0 = X_train.to_numpy()[np.where(y_train==0.0)]\n",
        "\n",
        "np.random.shuffle(X_train_0)\n",
        "\n",
        "import matplotlib.pyplot as plt\n",
        "%matplotlib inline\n",
        "plt.rcParams['figure.figsize'] = [20, 20]\n",
        "\n",
        "plt.scatter(X_train_1[:, top_var_index], X_train_1[:, second_top_var_index], label='Actual Class-1 Examples')\n",
        "plt.scatter(X_train_0[:X_train_1.shape[0], top_var_index], X_train_0[:X_train_1.shape[0], second_top_var_index],\n",
        "            label='Actual Class-0 Examples')\n",
        "plt.legend()"
      ],
      "execution_count": 0,
      "outputs": []
    },
    {
      "cell_type": "code",
      "metadata": {
        "id": "EOQiHUVp4TWn",
        "colab_type": "code",
        "colab": {}
      },
      "source": [
        "#### Print the FPR,TPR & select the best threshold from the roc curve"
      ],
      "execution_count": 0,
      "outputs": []
    },
    {
      "cell_type": "code",
      "metadata": {
        "id": "8piQYiQl4TWt",
        "colab_type": "code",
        "outputId": "54d0d29a-af0a-4839-9457-77ae695e5d61",
        "colab": {
          "base_uri": "https://localhost:8080/",
          "height": 982
        }
      },
      "source": [
        "print('Train auc =', metrics.roc_auc_score(y_true = y_test,y_score = clf_pred))\n",
        "fpr, tpr, thresholds = metrics.roc_curve(y_true = y_test,y_score = clf_pred)\n",
        "threshold = thresholds[np.argmax(tpr-fpr)]\n",
        "print(threshold)\n",
        "plt.plot(fpr, tpr, marker='.', label='Random Forest - Smote')"
      ],
      "execution_count": 0,
      "outputs": [
        {
          "output_type": "stream",
          "text": [
            "Train auc = 0.8800783675926228\n",
            "1\n"
          ],
          "name": "stdout"
        },
        {
          "output_type": "execute_result",
          "data": {
            "text/plain": [
              "[<matplotlib.lines.Line2D at 0x7f809d0e0710>]"
            ]
          },
          "metadata": {
            "tags": []
          },
          "execution_count": 38
        },
        {
          "output_type": "display_data",
          "data": {
            "image/png": "[encoded data removed]",
            "text/plain": [
              "<Figure size 1440x1440 with 1 Axes>"
            ]
          },
          "metadata": {
            "tags": [],
            "needs_background": "light"
          }
        }
      ]
    }
  ]
}